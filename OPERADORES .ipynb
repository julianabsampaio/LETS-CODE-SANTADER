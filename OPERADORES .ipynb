{
 "cells": [
  {
   "cell_type": "code",
   "execution_count": 13,
   "id": "7c220aaf",
   "metadata": {},
   "outputs": [
    {
     "name": "stdout",
     "output_type": "stream",
     "text": [
      "55\n",
      "45\n",
      "250\n",
      "10.0\n",
      "312500000\n",
      "10\n",
      "0\n"
     ]
    }
   ],
   "source": [
    "#OPERADORES ARITMÉTICOS \n",
    "\n",
    "x = 50\n",
    "y = 5\n",
    "\n",
    "print(x + y) #ADIÇÃO\n",
    "print(x - y) #SUBTRAÇÃO\n",
    "print(x * y) #MULTIPLICAÇÃO\n",
    "print(x / y) #DIVISÃO\n",
    "print(x ** y) #EXPONENCIAL\n",
    "print(x // y) #DIVISÃO INTEIRA\n",
    "print(x % y) #RESTO"
   ]
  },
  {
   "cell_type": "code",
   "execution_count": 12,
   "id": "a0ff00aa",
   "metadata": {},
   "outputs": [
    {
     "name": "stdout",
     "output_type": "stream",
     "text": [
      "False\n",
      "True\n",
      "False\n"
     ]
    }
   ],
   "source": [
    "#OPERADORES LÓGICOS - BOLEANOS\n",
    "\n",
    "tem_cafe = True\n",
    "tem_pao = False\n",
    "\n",
    "print(not tem_cafe) #INVERTE O VALOR LÓGICO - ALTERA O VALOR FINAL\n",
    "print(tem_cafe or tem_pao) #O VALOR DO RESULTADO FINAL SERÁ SEMPRE VERDADEIRO, \n",
    "#há não ser q ambas as expressoes envolvidas sejam falsas.\n",
    "print(tem_cafe and tem_pao) #SÓ RETORNA O VALOR VERDADEIRO SE AMBAS AS EXPRESSOES FOREM VERDADEIRAS"
   ]
  },
  {
   "cell_type": "code",
   "execution_count": 14,
   "id": "61536f08",
   "metadata": {},
   "outputs": [
    {
     "name": "stdout",
     "output_type": "stream",
     "text": [
      "True\n",
      "False\n",
      "False\n",
      "True\n",
      "False\n",
      "True\n"
     ]
    }
   ],
   "source": [
    "#OPERADORES RELACIONAIS - COMPARAR DOIS VALORES\n",
    "\n",
    "dolar = 5.30\n",
    "real = 1\n",
    "\n",
    "print(dolar > real)\n",
    "print(dolar < real)\n",
    "print(dolar == real)\n",
    "print(dolar >= real)\n",
    "print(dolar <= real)\n",
    "print(dolar != real)"
   ]
  },
  {
   "cell_type": "code",
   "execution_count": null,
   "id": "47673b02",
   "metadata": {},
   "outputs": [],
   "source": []
  },
  {
   "cell_type": "code",
   "execution_count": null,
   "id": "4189ed24",
   "metadata": {},
   "outputs": [],
   "source": []
  }
 ],
 "metadata": {
  "kernelspec": {
   "display_name": "Python 3 (ipykernel)",
   "language": "python",
   "name": "python3"
  },
  "language_info": {
   "codemirror_mode": {
    "name": "ipython",
    "version": 3
   },
   "file_extension": ".py",
   "mimetype": "text/x-python",
   "name": "python",
   "nbconvert_exporter": "python",
   "pygments_lexer": "ipython3",
   "version": "3.10.7"
  }
 },
 "nbformat": 4,
 "nbformat_minor": 5
}
