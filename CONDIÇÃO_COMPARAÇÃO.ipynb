{
 "cells": [
  {
   "cell_type": "code",
   "execution_count": null,
   "id": "934c5634",
   "metadata": {},
   "outputs": [],
   "source": [
    "valor_passagem = 4.50\n",
    "valor_corrida = input('Qual o valor da corrida?')\n",
    "\n",
    "#utilizando 'if' nas duas condições\n",
    "if float(valor_corrida) <= valor_passagem * 5:\n",
    "    print('Pague a corrida!')\n",
    "if float(valor_corrida) > valor_passagem * 5:\n",
    "    print('Pegue o onibus!')\n",
    "    "
   ]
  },
  {
   "cell_type": "code",
   "execution_count": null,
   "id": "7640c6ee",
   "metadata": {},
   "outputs": [],
   "source": [
    "valor_passagem = 4.50\n",
    "valor_corrida = input('Qual o valor da corrida?')\n",
    "\n",
    "if float(valor_corrida) <= valor_passagem * 5:\n",
    "    print('Pague a corrida!')\n",
    "else:\n",
    "    print('Pegue o ônibus!')"
   ]
  },
  {
   "cell_type": "code",
   "execution_count": 6,
   "id": "08596feb",
   "metadata": {},
   "outputs": [
    {
     "name": "stdout",
     "output_type": "stream",
     "text": [
      "Qual o valor da corrida?25\n",
      "Pegue o ônibus!\n"
     ]
    }
   ],
   "source": [
    "valor_passagem = 4.50\n",
    "valor_corrida = input(\"Qual o valor da corrida?\")\n",
    "\n",
    "if float(valor_corrida) <= valor_passagem * 5:\n",
    "    print(\"Pague a corrida!\")\n",
    "else:\n",
    "    if float(valor_corrida) > valor_passagem * 6:\n",
    "        print('Aguarde um momento, o preço pode abaixar!')\n",
    "    else:\n",
    "        print('Pegue o ônibus!')"
   ]
  },
  {
   "cell_type": "code",
   "execution_count": 3,
   "id": "9f51d732",
   "metadata": {},
   "outputs": [
    {
     "name": "stdout",
     "output_type": "stream",
     "text": [
      "Qual o preço da corrida?30\n",
      "Pegue o ônibus!\n"
     ]
    }
   ],
   "source": [
    "valor_passagem = 4.50\n",
    "valor_corrida = input('Qual o preço da corrida?')\n",
    "\n",
    "if float(valor_corrida) <= valor_passagem * 5:\n",
    "    print('Pague a corrida!')\n",
    "elif float(valor_corrida) <= valor_passagem * 6:\n",
    "    print('Aguarde um momento, o preço pode abaixar!')\n",
    "else:\n",
    "    print('Pegue o ônibus!')    "
   ]
  },
  {
   "cell_type": "code",
   "execution_count": null,
   "id": "ae553b39",
   "metadata": {},
   "outputs": [],
   "source": []
  }
 ],
 "metadata": {
  "kernelspec": {
   "display_name": "Python 3 (ipykernel)",
   "language": "python",
   "name": "python3"
  },
  "language_info": {
   "codemirror_mode": {
    "name": "ipython",
    "version": 3
   },
   "file_extension": ".py",
   "mimetype": "text/x-python",
   "name": "python",
   "nbconvert_exporter": "python",
   "pygments_lexer": "ipython3",
   "version": "3.10.7"
  }
 },
 "nbformat": 4,
 "nbformat_minor": 5
}
