{
 "cells": [
  {
   "cell_type": "code",
   "execution_count": 1,
   "id": "503a903d",
   "metadata": {},
   "outputs": [
    {
     "name": "stdout",
     "output_type": "stream",
     "text": [
      "Informe a sua idade30\n",
      "30.0 <class 'float'>\n"
     ]
    }
   ],
   "source": [
    "#SEQUENCIA DE PASSOS = ALGORITMO\n",
    "#FUNÇÃO INPUT - RETORNA UM VALOR; INTERAÇÃO COM O USUÁRIO\n",
    "\n",
    "idade = input(\"Informe a sua idade\")\n",
    "idade = float(idade)\n",
    "print(idade, type(idade))"
   ]
  },
  {
   "cell_type": "code",
   "execution_count": 4,
   "id": "42136013",
   "metadata": {},
   "outputs": [
    {
     "name": "stdout",
     "output_type": "stream",
     "text": [
      "Digite o seu salário mensal: 1250\n",
      "Digite uma média de quanto você gasta no mês: 1100\n",
      "O montante economizado ao ano foi de 1800.0\n"
     ]
    }
   ],
   "source": [
    "#SABER QUAL O MONTANTE ECONOMIZADO POR ANO\n",
    "\n",
    "salario_mensal = input(\"Digite o seu salário mensal: \")\n",
    "salario_mensal = float(salario_mensal)\n",
    "\n",
    "gasto_mensal = input(\"Digite uma média de quanto você gasta no mês: \")\n",
    "gasto_mensal = float(gasto_mensal)\n",
    "\n",
    "salario_total = salario_mensal * 12\n",
    "gasto_total = gasto_mensal * 12\n",
    "\n",
    "montante_economizado = salario_total - gasto_total\n",
    "\n",
    "print('O montante economizado ao ano foi de', montante_economizado)"
   ]
  },
  {
   "cell_type": "code",
   "execution_count": null,
   "id": "b30db054",
   "metadata": {},
   "outputs": [],
   "source": []
  }
 ],
 "metadata": {
  "kernelspec": {
   "display_name": "Python 3 (ipykernel)",
   "language": "python",
   "name": "python3"
  },
  "language_info": {
   "codemirror_mode": {
    "name": "ipython",
    "version": 3
   },
   "file_extension": ".py",
   "mimetype": "text/x-python",
   "name": "python",
   "nbconvert_exporter": "python",
   "pygments_lexer": "ipython3",
   "version": "3.10.7"
  }
 },
 "nbformat": 4,
 "nbformat_minor": 5
}
