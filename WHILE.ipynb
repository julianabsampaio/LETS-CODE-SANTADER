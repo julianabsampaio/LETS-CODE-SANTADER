{
 "cells": [
  {
   "cell_type": "code",
   "execution_count": 1,
   "id": "7f8bb09b",
   "metadata": {},
   "outputs": [
    {
     "name": "stdout",
     "output_type": "stream",
     "text": [
      "1 item limpo\n",
      "2 itens limpos\n",
      "3 itens limpos\n",
      "4 itens limpos\n",
      "5 itens limpos\n",
      "6 itens limpos\n",
      "7 itens limpos\n",
      "8 itens limpos\n",
      "9 itens limpos\n",
      "10 itens limpos\n",
      "Fim da repetição do bloco while.\n"
     ]
    }
   ],
   "source": [
    "#quantas vezes uma tarefa vai ser executada\n",
    "contador = 0\n",
    "\n",
    "while contador < 10:\n",
    "    contador = contador + 1\n",
    "    if contador == 1:\n",
    "        print(contador, 'item limpo')\n",
    "    else:\n",
    "        print(contador, 'itens limpos')\n",
    "        \n",
    "print('Fim da repetição do bloco while.')"
   ]
  },
  {
   "cell_type": "code",
   "execution_count": 1,
   "id": "254c4cb8",
   "metadata": {},
   "outputs": [
    {
     "name": "stdout",
     "output_type": "stream",
     "text": [
      "1 item limpo\n",
      "2 itens limpos\n",
      "3 itens limpos\n",
      "4 itens limpos\n",
      "5 itens limpos\n",
      "6 itens limpos\n",
      "7 itens limpos\n",
      "8 itens limpos\n",
      "9 itens limpos\n",
      "10 itens limpos\n",
      "Fim da repetição do bloco while.\n"
     ]
    }
   ],
   "source": [
    "contador = 0\n",
    "\n",
    "while True:\n",
    "    if contador < 10:\n",
    "        contador = contador + 1\n",
    "        if contador == 1:\n",
    "            print(contador, 'item limpo')\n",
    "        else:\n",
    "            print(contador, 'itens limpos')\n",
    "            \n",
    "    else:\n",
    "        break\n",
    "        \n",
    "print('Fim da repetição do bloco while.')       "
   ]
  },
  {
   "cell_type": "code",
   "execution_count": 3,
   "id": "539d3706",
   "metadata": {},
   "outputs": [
    {
     "name": "stdout",
     "output_type": "stream",
     "text": [
      "Digite sua senha414\n",
      "Senha inválida, digite novamente. lestscode\n",
      "Acesso permitido.\n"
     ]
    }
   ],
   "source": [
    "#VALIDAÇÃO DE ENTRADA\n",
    "\n",
    "texto = input('Digite sua senha')\n",
    "\n",
    "#!= diferente\n",
    "while texto != 'lestscode':\n",
    "    texto = input('Senha inválida, digite novamente. ')\n",
    "print('Acesso permitido.')"
   ]
  },
  {
   "cell_type": "code",
   "execution_count": 4,
   "id": "9aeacf94",
   "metadata": {},
   "outputs": [
    {
     "name": "stdout",
     "output_type": "stream",
     "text": [
      "2 itens limpos\n",
      "3 itens limpos\n",
      "4 itens limpos\n",
      "5 itens limpos\n",
      "6 itens limpos\n",
      "7 itens limpos\n",
      "8 itens limpos\n",
      "9 itens limpos\n",
      "10 itens limpos\n",
      "Fim da repetição do bloco while.\n"
     ]
    }
   ],
   "source": [
    "#CONTROLE DE EXECUÇÃO DE LOOP\n",
    "\n",
    "contador = 0\n",
    "\n",
    "while contador < 10:\n",
    "    contador = contador + 1\n",
    "    if contador == 1:\n",
    "        continue\n",
    "    print(contador, 'itens limpos')\n",
    "        \n",
    "print('Fim da repetição do bloco while.')"
   ]
  },
  {
   "cell_type": "code",
   "execution_count": null,
   "id": "1a86e0c0",
   "metadata": {},
   "outputs": [],
   "source": []
  }
 ],
 "metadata": {
  "kernelspec": {
   "display_name": "Python 3 (ipykernel)",
   "language": "python",
   "name": "python3"
  },
  "language_info": {
   "codemirror_mode": {
    "name": "ipython",
    "version": 3
   },
   "file_extension": ".py",
   "mimetype": "text/x-python",
   "name": "python",
   "nbconvert_exporter": "python",
   "pygments_lexer": "ipython3",
   "version": "3.10.7"
  }
 },
 "nbformat": 4,
 "nbformat_minor": 5
}
